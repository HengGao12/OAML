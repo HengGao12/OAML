{
 "cells": [
  {
   "cell_type": "code",
   "execution_count": 1,
   "metadata": {
    "ExecuteTime": {
     "end_time": "2024-02-29T00:49:06.338309Z",
     "start_time": "2024-02-29T00:49:06.272234Z"
    },
    "collapsed": false
   },
   "outputs": [],
   "source": [
    "import  numpy as np\n",
    "\n",
    "cifar10_outliers_ours = np.load('./cifar10_outlier_npos_embed_noise_0.07_select_50_KNN_300.npy')"
   ]
  },
  {
   "cell_type": "code",
   "execution_count": 2,
   "metadata": {},
   "outputs": [
    {
     "name": "stdout",
     "output_type": "stream",
     "text": [
      "/d/IV-Research/OWOD/Reproduced Code/test\n"
     ]
    }
   ],
   "source": [
    "!pwd"
   ]
  },
  {
   "cell_type": "code",
   "execution_count": 3,
   "metadata": {},
   "outputs": [
    {
     "name": "stdout",
     "output_type": "stream",
     "text": [
      "(10, 1000, 768)\n"
     ]
    }
   ],
   "source": [
    "print(cifar10_outliers_ours.shape)"
   ]
  },
  {
   "cell_type": "code",
   "execution_count": 7,
   "metadata": {
    "ExecuteTime": {
     "end_time": "2024-02-29T00:49:08.524158Z",
     "start_time": "2024-02-29T00:49:08.492504Z"
    },
    "collapsed": false
   },
   "outputs": [],
   "source": [
    "cifar10_outliers_ours = cifar10_outliers_ours.reshape(10*1000, cifar10_outliers_ours.shape[2])"
   ]
  },
  {
   "cell_type": "code",
   "execution_count": 8,
   "metadata": {
    "ExecuteTime": {
     "end_time": "2024-02-29T00:49:08.960427Z",
     "start_time": "2024-02-29T00:49:08.960427Z"
    },
    "collapsed": false
   },
   "outputs": [
    {
     "name": "stdout",
     "output_type": "stream",
     "text": [
      "(10000, 768)\n"
     ]
    }
   ],
   "source": [
    "print(cifar10_outliers_ours.shape)"
   ]
  },
  {
   "cell_type": "code",
   "execution_count": 14,
   "metadata": {
    "ExecuteTime": {
     "end_time": "2024-03-08T01:59:17.850922Z",
     "start_time": "2024-03-08T01:59:17.240039Z"
    },
    "collapsed": false
   },
   "outputs": [],
   "source": [
    "import numpy as np\n",
    "import pandas as pd\n",
    "from sklearn import datasets\n",
    "\n",
    "\n",
    "class KMeans:\n",
    "    \"\"\"使用python语言实现聚类算法\"\"\"\n",
    "\n",
    "    def __init__(self, k, times):\n",
    "        \"\"\"\n",
    "        初始化\n",
    "        :param k: int，聚类的个数\n",
    "        :param times: int，迭代的次数\n",
    "        \"\"\"\n",
    "        self.k = k\n",
    "        self.times = times\n",
    "\n",
    "    def fit(self, X):\n",
    "        \"\"\"\n",
    "        根据提供的训练数据，对模型进行训练\n",
    "        :param X: 类数组类型，形状为 [样本数量，特征数量]，待训练的样本特征属性\n",
    "        \"\"\"\n",
    "        X = np.asarray(X)\n",
    "        # 设置随机种子，以便于可以产生相同的是随机序列（随机的结果可以重现）\n",
    "        np.random.seed(0)\n",
    "        # 从数据中随机选择k个点作为初始聚类中心\n",
    "        self.clurter_centers = X[np.random.randint(0, len(X), self.k)]\n",
    "        self.labels_ = np.zeros(len(X))\n",
    "\n",
    "        for t in range(self.times):\n",
    "            for index, x in enumerate(X):\n",
    "                # 计算每个样本与聚类中心的距离\n",
    "                dis = np.sqrt(np.sum((x - self.clurter_centers) ** 2, axis=1))\n",
    "                # 将最小距离的索引赋值给标签数组, 索引的值就是当前点所属的簇， 范围为 [0, k-1]\n",
    "                self.labels_[index] = dis.argmin()\n",
    "            # 循环遍历每一个簇\n",
    "            for i in range(self.k):\n",
    "                # 计算每个簇内所有点的均值，更新聚类中心\n",
    "                self.clurter_centers[i] = np.mean(X[self.labels_ == i], axis=0)\n",
    "\n",
    "    def predict(self, X):\n",
    "        \"\"\"\n",
    "        根据传递的样本，对样本数据进行预测（预测样本属于哪一个簇中）\n",
    "        :param X: 类数组类型，形状为 [样本数量，特征数量]，待预测的样本特征属性\n",
    "        :return: result 预测的结果（每一个x所属的簇）\n",
    "        \"\"\"\n",
    "        X = np.asarray(X)\n",
    "        result = np.zeros(len(X))\n",
    "        for index, x in enumerate(X):\n",
    "            # 计算与聚类中心的距离\n",
    "            dis = np.sqrt(np.sum((x-self.clurter_centers)**2, axis=1))\n",
    "            # 找到聚类最近的聚类中心，划分类别\n",
    "            result[index] = dis.argmin()\n",
    "        return result"
   ]
  },
  {
   "cell_type": "code",
   "execution_count": 8,
   "metadata": {
    "ExecuteTime": {
     "end_time": "2024-03-08T01:59:23.038269Z",
     "start_time": "2024-03-08T01:59:19.565496Z"
    },
    "collapsed": false
   },
   "outputs": [
    {
     "name": "stdout",
     "output_type": "stream",
     "text": [
      "5854\n"
     ]
    }
   ],
   "source": [
    "km = KMeans(k=2, times=50)\n",
    "km.fit(cifar10_outliers_ours)\n",
    "\n",
    "# 查看某个簇类的所有样本数据\n",
    "print(len(cifar10_outliers_ours[km.labels_ == 0]))"
   ]
  },
  {
   "cell_type": "code",
   "execution_count": 9,
   "metadata": {
    "ExecuteTime": {
     "end_time": "2024-03-08T01:59:31.876731Z",
     "start_time": "2024-03-08T01:59:31.808672Z"
    },
    "collapsed": false
   },
   "outputs": [],
   "source": [
    "import numpy as np\n",
    "cifar10_outliers_ours = np.load('D:\\\\IV-Research\\\\OWOD\\\\Reproduced Code\\\\clean-test\\\\cifar10_outlier_npos_embed_noise_0.07_select_50_KNN_300.npy')"
   ]
  },
  {
   "cell_type": "code",
   "execution_count": 10,
   "metadata": {
    "ExecuteTime": {
     "end_time": "2024-03-08T01:59:32.289528Z",
     "start_time": "2024-03-08T01:59:32.271965Z"
    },
    "collapsed": false
   },
   "outputs": [
    {
     "name": "stdout",
     "output_type": "stream",
     "text": [
      "(10, 1000, 768)\n"
     ]
    }
   ],
   "source": [
    "print(cifar10_outliers_ours.shape)"
   ]
  },
  {
   "cell_type": "code",
   "execution_count": 11,
   "metadata": {
    "ExecuteTime": {
     "end_time": "2024-03-08T01:59:33.214984Z",
     "start_time": "2024-03-08T01:59:33.204020Z"
    },
    "collapsed": false
   },
   "outputs": [],
   "source": [
    "cifar10_outliers_ours = cifar10_outliers_ours.reshape(10*1000, cifar10_outliers_ours.shape[2])"
   ]
  },
  {
   "cell_type": "code",
   "execution_count": 12,
   "metadata": {
    "ExecuteTime": {
     "end_time": "2024-03-08T01:59:33.793885Z",
     "start_time": "2024-03-08T01:59:33.772956Z"
    },
    "collapsed": false
   },
   "outputs": [
    {
     "name": "stdout",
     "output_type": "stream",
     "text": [
      "(10000, 768)\n"
     ]
    }
   ],
   "source": [
    "print(cifar10_outliers_ours.shape)"
   ]
  },
  {
   "cell_type": "code",
   "execution_count": 4,
   "metadata": {
    "ExecuteTime": {
     "end_time": "2024-03-08T02:03:11.784352Z",
     "start_time": "2024-03-08T02:03:04.235247Z"
    },
    "collapsed": false
   },
   "outputs": [],
   "source": [
    "import torch\n",
    "deep_ood_embeddings_cifar10 = torch.load('./deep_ood_embedding_cifar10.pt')"
   ]
  },
  {
   "cell_type": "code",
   "execution_count": 10,
   "metadata": {
    "ExecuteTime": {
     "end_time": "2024-03-08T02:03:11.862957Z",
     "start_time": "2024-03-08T02:03:11.784352Z"
    },
    "collapsed": false
   },
   "outputs": [
    {
     "name": "stdout",
     "output_type": "stream",
     "text": [
      "(50, 3, 16384)\n"
     ]
    }
   ],
   "source": [
    "deep_ood_embeddings_cifar10 = deep_ood_embeddings_cifar10.cpu().numpy()\n",
    "print(deep_ood_embeddings_cifar10.shape)"
   ]
  },
  {
   "cell_type": "code",
   "execution_count": 5,
   "metadata": {
    "ExecuteTime": {
     "end_time": "2024-03-08T02:03:12.120181Z",
     "start_time": "2024-03-08T02:03:11.815586Z"
    },
    "collapsed": false
   },
   "outputs": [],
   "source": [
    "# print(deep_ood_embeddings_cifar10.s)\n",
    "deep_ood_embeddings_cifar10 = deep_ood_embeddings_cifar10.reshape(150, deep_ood_embeddings_cifar10.shape[2])"
   ]
  },
  {
   "cell_type": "code",
   "execution_count": 6,
   "metadata": {
    "ExecuteTime": {
     "end_time": "2024-03-08T02:03:12.147215Z",
     "start_time": "2024-03-08T02:03:11.831209Z"
    },
    "collapsed": false
   },
   "outputs": [
    {
     "data": {
      "text/plain": [
       "torch.Size([150, 16384])"
      ]
     },
     "execution_count": 6,
     "metadata": {},
     "output_type": "execute_result"
    }
   ],
   "source": [
    "deep_ood_embeddings_cifar10.shape"
   ]
  },
  {
   "cell_type": "code",
   "execution_count": 25,
   "metadata": {
    "ExecuteTime": {
     "end_time": "2024-03-08T02:04:28.280130Z",
     "start_time": "2024-03-08T02:04:26.448028Z"
    },
    "collapsed": false
   },
   "outputs": [
    {
     "data": {
      "image/png": "[encoded data removed]",
      "text/plain": [
       "<Figure size 1000x1000 with 1 Axes>"
      ]
     },
     "metadata": {},
     "output_type": "display_data"
    }
   ],
   "source": [
    "data2 = deep_ood_embeddings_cifar10[:150, :2]\n",
    "\n",
    "kmeans = KMeans(k=2, times=50)\n",
    "kmeans.fit(data2)\n",
    "\n",
    "x_min, x_max = data2[:, 0].min() - 1, data2[:, 0].max() + 1\n",
    "y_min, y_max = data2[:, 1].min() - 1, data2[:, 1].max() + 1\n",
    "xx, yy = np.meshgrid(np.arange(x_min, x_max, 0.1),\n",
    "                     np.arange(y_min, y_max, 0.1))\n",
    "z = kmeans.predict(np.c_[xx.ravel(), yy.ravel()]).reshape(xx.shape)\n",
    "\n",
    "# 可视化\n",
    "import matplotlib.pyplot as plt\n",
    "\n",
    "plt.figure(figsize=(10, 10))  # 设置画布\n",
    "plt.contourf(xx, yy, z, alpha=0.4)\n",
    "plt.ylim(-2,2)\n",
    "plt.xlim(-2,2)\n",
    "# 绘制每个类别的散点图\n",
    "plt.scatter(data2[kmeans.labels_ == 0][:, 0], data2[kmeans.labels_ == 0][:, 1], label='0', edgecolors='k')\n",
    "plt.scatter(data2[kmeans.labels_ == 1][:, 0], data2[kmeans.labels_ == 1][:, 1], label='1', edgecolors='k')\n",
    "# plt.scatter(cifar10_outliers_ours[km.labels_ == 2][:, 0], cifar10_outliers_ours[km.labels_ == 2][:, 1], label='2')\n",
    "# 绘制聚类中心\n",
    "plt.scatter(kmeans.clurter_centers[:, 0], kmeans.clurter_centers[:, 1], marker=\"*\", s=300)\n",
    "plt.title(\"Clustering Decision Boundary of Deep Outliers on CIFAR-10.\", fontsize=20)\n",
    "plt.legend(fontsize=16, loc='upper right')  # 生成图例\n",
    "plt.savefig('./db2-cifar10-reproduce.png', bbox_inches='tight', dpi=700)\n",
    "plt.show()"
   ]
  },
  {
   "cell_type": "code",
   "execution_count": 4,
   "metadata": {
    "ExecuteTime": {
     "end_time": "2024-02-28T19:13:30.830349Z",
     "start_time": "2024-02-28T19:13:20.675060Z"
    },
    "collapsed": false
   },
   "outputs": [
    {
     "name": "stderr",
     "output_type": "stream",
     "text": [
      "D:\\Aanaconda\\anaconda\\lib\\site-packages\\sklearn\\cluster\\_kmeans.py:870: FutureWarning: The default value of `n_init` will change from 10 to 'auto' in 1.4. Set the value of `n_init` explicitly to suppress the warning\n",
      "  warnings.warn(\n"
     ]
    }
   ],
   "source": [
    "from sklearn.cluster import KMeans\n",
    "\n",
    "k = 2\n",
    "kmeans = KMeans(n_clusters=k, random_state=42)\n",
    "y_pred = kmeans.fit_predict(cifar10_outliers_ours)"
   ]
  },
  {
   "cell_type": "code",
   "execution_count": 10,
   "metadata": {
    "ExecuteTime": {
     "end_time": "2024-02-28T19:19:07.804087Z",
     "start_time": "2024-02-28T19:19:07.785850Z"
    },
    "collapsed": false
   },
   "outputs": [
    {
     "name": "stdout",
     "output_type": "stream",
     "text": [
      "True\n",
      "(2, 768)\n"
     ]
    }
   ],
   "source": [
    "# print(y_pred)\n",
    "print(y_pred is kmeans.labels_)\n",
    "print(kmeans.cluster_centers_.shape)"
   ]
  },
  {
   "cell_type": "code",
   "execution_count": 11,
   "metadata": {
    "ExecuteTime": {
     "end_time": "2024-02-28T19:20:29.228081Z",
     "start_time": "2024-02-28T19:20:27.766509Z"
    },
    "collapsed": false
   },
   "outputs": [],
   "source": [
    "import matplotlib.pyplot as plt"
   ]
  },
  {
   "cell_type": "code",
   "execution_count": 12,
   "metadata": {
    "ExecuteTime": {
     "end_time": "2024-02-28T19:20:36.665243Z",
     "start_time": "2024-02-28T19:20:36.644025Z"
    },
    "collapsed": false
   },
   "outputs": [],
   "source": [
    "def plot_data(X):\n",
    "    plt.plot(X[:, 0], X[:, 1], 'k.', markersize=2)\n",
    "\n",
    "def plot_centroids(centroids, weights=None, circle_color='w', cross_color='k'):\n",
    "    if weights is not None:\n",
    "        centroids = centroids[weights > weights.max() / 10]\n",
    "    plt.scatter(centroids[:, 0], centroids[:, 1],\n",
    "                marker='o', s=30, linewidths=8,\n",
    "                color=circle_color, zorder=10, alpha=0.9)\n",
    "    plt.scatter(centroids[:, 0], centroids[:, 1],\n",
    "                marker='x', s=50, linewidths=50,\n",
    "                color=cross_color, zorder=11, alpha=1)\n",
    "\n",
    "def plot_decision_boundaries(clusterer, X, resolution=1000, show_centroids=True,\n",
    "                             show_xlabels=True, show_ylabels=True):\n",
    "    mins = X.min(axis=0) - 0.1\n",
    "    maxs = X.max(axis=0) + 0.1\n",
    "    xx, yy = np.meshgrid(np.linspace(mins[0], maxs[0], resolution),\n",
    "                         np.linspace(mins[1], maxs[1], resolution))\n",
    "    Z = clusterer.predict(np.c_[xx.ravel(), yy.ravel()])\n",
    "    Z = Z.reshape(xx.shape)\n",
    "\n",
    "    plt.contourf(Z, extent=(mins[0], maxs[0], mins[1], maxs[1]),\n",
    "                cmap=\"Pastel2\")\n",
    "    plt.contour(Z, extent=(mins[0], maxs[0], mins[1], maxs[1]),\n",
    "                linewidths=1, colors='k')\n",
    "    plot_data(X)\n",
    "    if show_centroids:\n",
    "        plot_centroids(clusterer.cluster_centers_)\n",
    "\n",
    "    if show_xlabels:\n",
    "        plt.xlabel(\"$x_1$\", fontsize=14)\n",
    "    else:\n",
    "        plt.tick_params(labelbottom=False)\n",
    "    if show_ylabels:\n",
    "        plt.ylabel(\"$x_2$\", fontsize=14, rotation=0)\n",
    "    else:\n",
    "        plt.tick_params(labelleft=False)"
   ]
  },
  {
   "cell_type": "code",
   "execution_count": null,
   "metadata": {
    "collapsed": false
   },
   "outputs": [],
   "source": [
    "plt.figure(figsize=(8, 4))\n",
    "plot_decision_boundaries(kmeans, cifar10_outliers_ours)\n",
    "plt.show()"
   ]
  },
  {
   "cell_type": "code",
   "execution_count": null,
   "metadata": {
    "collapsed": false
   },
   "outputs": [],
   "source": []
  }
 ],
 "metadata": {
  "kernelspec": {
   "display_name": "Python 3",
   "language": "python",
   "name": "python3"
  },
  "language_info": {
   "codemirror_mode": {
    "name": "ipython",
    "version": 3
   },
   "file_extension": ".py",
   "mimetype": "text/x-python",
   "name": "python",
   "nbconvert_exporter": "python",
   "pygments_lexer": "ipython3",
   "version": "3.9.18"
  }
 },
 "nbformat": 4,
 "nbformat_minor": 0
}
